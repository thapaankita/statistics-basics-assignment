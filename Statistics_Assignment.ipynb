{
  "nbformat": 4,
  "nbformat_minor": 0,
  "metadata": {
    "colab": {
      "provenance": []
    },
    "kernelspec": {
      "name": "python3",
      "display_name": "Python 3"
    },
    "language_info": {
      "name": "python"
    }
  },
  "cells": [
    {
      "cell_type": "markdown",
      "source": [
        "#Statistics Basics Questions"
      ],
      "metadata": {
        "id": "WAoXGE8CJnji"
      }
    },
    {
      "cell_type": "markdown",
      "source": [
        "## Q1. What is statistics, and why is it important?\n",
        "\n",
        "### Answer:\n",
        "\n",
        "**Statistics** is a branch of mathematics that deals with the collection, organization, analysis, interpretation, and presentation of data. It provides tools and techniques to understand, summarize, and draw conclusions from data.\n",
        "\n",
        "### Importance of Statistics\n",
        "\n",
        "Statistics is important because it helps:\n",
        "\n",
        "- **Make Informed Decisions**  \n",
        "  Organizations, governments, and individuals use statistics to make evidence-based decisions.\n",
        "\n",
        "- **Understand and Interpret Data**  \n",
        "  It simplifies complex data sets and helps present them in an understandable way.\n",
        "\n",
        "- **Identify Patterns and Trends**  \n",
        "  Statistics helps reveal patterns, relationships, and trends in data.\n",
        "\n",
        "- **Predict Future Outcomes**  \n",
        "  Through statistical models and probability, predictions can be made about future events.\n",
        "\n",
        "- **Test Hypotheses and Theories**  \n",
        "  In research, statistics is essential to test assumptions and validate scientific theories.\n",
        "\n",
        "- **Reduce Uncertainty**  \n",
        "  It provides a structured approach to dealing with variability and uncertainty in real-world situations.\n",
        "\n",
        "## Q2. What are the Two Main Types of Statistics?\n",
        "\n",
        "### Answer:\n",
        "\n",
        "The two main types of statistics are:\n",
        "\n",
        "### 1. Descriptive Statistics\n",
        "\n",
        "Descriptive statistics involves methods for organizing, summarizing, and presenting data in an informative way.\n",
        "\n",
        "**Examples:**\n",
        "- Mean, median, mode\n",
        "- Standard deviation, variance\n",
        "- Tables, graphs, and charts\n",
        "\n",
        "### 2. Inferential Statistics\n",
        "\n",
        "Inferential statistics involves making predictions or generalizations about a population based on sample data.\n",
        "\n",
        "**Examples:**\n",
        "- Hypothesis testing\n",
        "- Confidence intervals\n",
        "- Regression analysis\n",
        "- Estimating population parameters\n",
        "\n",
        "## Q3. What are descriptive statistics?\n",
        "\n",
        "### Answer:\n",
        "\n",
        "**Descriptive Statistics** are methods used to organize, summarize, and present data in a clear and meaningful way. They help describe the basic features of a data set, providing simple summaries about the sample or population.\n",
        "\n",
        "Descriptive statistics do not make predictions or generalizations; they simply describe what the data shows.\n",
        "\n",
        "### Common Types of Descriptive Statistics:\n",
        "\n",
        "- **Measures of Central Tendency:**  \n",
        "  Indicate the center or typical value of a dataset.  \n",
        "  Examples: Mean, Median, Mode\n",
        "\n",
        "- **Measures of Dispersion (Variability):**  \n",
        "  Show how spread out the data is.  \n",
        "  Examples: Range, Variance, Standard Deviation\n",
        "\n",
        "- **Data Visualization Tools:**  \n",
        "  Help present data graphically.  \n",
        "  Examples: Tables, Graphs, Charts, Histograms, Pie Charts\n",
        "\n",
        "  ### Example:\n",
        "\n",
        "A teacher records the test scores of 30 students. Descriptive statistics such as the average score (mean) and the highest and lowest scores help summarize the performance of the class.\n",
        "\n",
        "## Q4. What is inferential statistics?\n",
        "\n",
        "### Answer:\n",
        "\n",
        "**Inferential Statistics** involves methods for making predictions, estimates, or generalizations about a population based on information gathered from a sample. It helps researchers and decision-makers draw conclusions about larger groups without having to study every member.\n",
        "\n",
        "Inferential statistics use probability theory to measure the reliability and accuracy of conclusions drawn from sample data.\n",
        "\n",
        "### Key Features of Inferential Statistics:\n",
        "\n",
        "- Makes predictions or generalizations about a population\n",
        "- Uses sample data to infer population characteristics\n",
        "- Involves uncertainty, measured through confidence intervals and significance levels\n",
        "- Often includes hypothesis testing to support or reject claims\n",
        "\n",
        "### Example (for better understanding):\n",
        "\n",
        "For instance, researchers may survey a group of 1,000 people to estimate the average income of the entire population of a country. Based on the sample data, they make inferences about the whole population.\n",
        "\n",
        "## Q5. What is sampling in statistics?\n",
        "\n",
        "### Answer:\n",
        "\n",
        "**Sampling** in statistics refers to the process of selecting a subset of individuals or items from a larger population to gather information and draw conclusions about the whole population. Instead of collecting data from every member of the population, which is often time-consuming or impractical, a representative sample is used.\n",
        "\n",
        "Sampling is a fundamental technique in statistics, especially in surveys, experiments, and research studies.\n",
        "\n",
        "## Q6. What are the different types of sampling methods?\n",
        "\n",
        "### Answer:\n",
        "\n",
        "In statistics, there are two broad categories of sampling methods:\n",
        "\n",
        "### 1. Probability Sampling\n",
        "\n",
        "In probability sampling, every member of the population has a known, non-zero chance of being selected. This method helps reduce bias and allows generalizations to be made about the population.\n",
        "\n",
        "**Types of Probability Sampling:**\n",
        "\n",
        "- **Simple Random Sampling:**  \n",
        "  Every member has an equal chance of being selected.  \n",
        "  *Example:* Drawing names from a hat.\n",
        "\n",
        "- **Systematic Sampling:**  \n",
        "  Selecting every k-th item from a list.  \n",
        "  *Example:* Surveying every 10th customer entering a store.\n",
        "\n",
        "- **Stratified Sampling:**  \n",
        "  Dividing the population into groups (strata) and taking samples from each group.  \n",
        "  *Example:* Selecting students from different classes to ensure all grades are represented.\n",
        "\n",
        "- **Cluster Sampling:**  \n",
        "  Dividing the population into clusters, then randomly selecting entire clusters.  \n",
        "  *Example:* Surveying all students in randomly chosen schools.\n",
        "\n",
        "### 2. Non-Probability Sampling\n",
        "\n",
        "In non-probability sampling, not every member has a known chance of being selected. This method is quicker and easier but may introduce bias.\n",
        "\n",
        "**Types of Non-Probability Sampling:**\n",
        "\n",
        "- **Convenience Sampling:**  \n",
        "  Selecting individuals who are easiest to reach.  \n",
        "  *Example:* Asking people nearby in a park.\n",
        "\n",
        "- **Judgmental or Purposive Sampling:**  \n",
        "  Selecting individuals based on the researcher's judgment.  \n",
        "  *Example:* Choosing experts for a specialized survey.\n",
        "\n",
        "- **Snowball Sampling:**  \n",
        "  Existing participants recruit future participants.  \n",
        "  *Example:* Used to find participants in hidden populations, like specific social groups.\n",
        "  \n",
        "## Q7.  What is the difference between random and non-random sampling?\n",
        "\n",
        "### Answer:\n",
        "\n",
        "The main difference between **random sampling** and **non-random sampling** lies in the selection process and the likelihood of bias.\n",
        "\n",
        "### 1. Random Sampling (Probability Sampling)\n",
        "\n",
        "- Every member of the population has a known and equal chance of being selected.\n",
        "- Reduces the possibility of selection bias.\n",
        "- Allows the results to be generalized to the whole population.\n",
        "\n",
        "**Example:**  \n",
        "Selecting 50 students randomly from a list of all students using a lottery system.\n",
        "\n",
        "### 2. Non-Random Sampling (Non-Probability Sampling)\n",
        "\n",
        "- Not every member has a known or equal chance of being selected.\n",
        "- Selection is based on convenience, judgment, or other non-random criteria.\n",
        "- May introduce bias, making it harder to generalize results.\n",
        "\n",
        "**Example:**  \n",
        "Surveying only the people present at a nearby café because they are easily accessible.\n",
        "\n",
        "## Q8. Define and give examples of qualitative and quantitative data.\n",
        "\n",
        "### Answer:\n",
        "\n",
        "### 1. Qualitative Data (Categorical Data)\n",
        "\n",
        "Qualitative data refers to non-numerical information that describes qualities or characteristics. It is often used to categorize or label variables.\n",
        "\n",
        "**Examples:**\n",
        "\n",
        "- Colors of cars (Red, Blue, Black)\n",
        "- Types of cuisine (Italian, Chinese, Indian)\n",
        "- Gender (Male, Female, Other)\n",
        "- Blood groups (A, B, AB, O)\n",
        "\n",
        "### 2. Quantitative Data (Numerical Data)\n",
        "\n",
        "Quantitative data refers to numerical information that can be measured or counted. It is used to represent quantities or amounts.\n",
        "\n",
        "**Examples:**\n",
        "\n",
        "- Age of individuals (25 years, 30 years)\n",
        "- Heights of students (160 cm, 175 cm)\n",
        "- Number of books in a library (500, 1200)\n",
        "- Temperature readings (22°C, 35°C)\n",
        "\n",
        "## Q9. What are the different types of data in statistics?\n",
        "\n",
        "### Answer:\n",
        "\n",
        "In statistics, data is generally classified into two broad categories:\n",
        "\n",
        "### 1. Qualitative Data (Categorical Data)\n",
        "Qualitative data describes characteristics or attributes that cannot be measured numerically. It is used for classification or labeling.\n",
        "\n",
        "**Types of Qualitative Data:**\n",
        "\n",
        "- **Nominal Data:**  \n",
        "  Data with categories that do not have a specific order.  \n",
        "  *Example:* Gender, Blood group, Marital status\n",
        "\n",
        "- **Ordinal Data:**  \n",
        "  Data with categories that have a meaningful order, but the differences between them are not measurable.  \n",
        "  *Example:* Education levels (High School, Graduate, Postgraduate), Customer satisfaction ratings (Poor, Fair, Good, Excellent)\n",
        "\n",
        "### 2. Quantitative Data (Numerical Data)\n",
        "\n",
        "Quantitative data consists of numerical values that can be measured or counted.\n",
        "\n",
        "**Types of Quantitative Data:**\n",
        "\n",
        "- **Discrete Data:**  \n",
        "  Data that can take only specific, separate values.  \n",
        "  *Example:* Number of students in a class, Number of cars in a parking lot\n",
        "\n",
        "- **Continuous Data:**  \n",
        "  Data that can take any value within a given range.  \n",
        "  *Example:* Height of individuals, Weight of a person, Temperature readings\n",
        "\n",
        "## Q10.  Explain nominal, ordinal, interval, and ratio levels of measurement.\n",
        "\n",
        "### Answer:\n",
        "\n",
        "In statistics, data can be classified based on four levels of measurement. These levels determine the type of analysis that can be performed on the data.\n",
        "\n",
        "### 1. Nominal Level\n",
        "\n",
        "- The lowest level of measurement.\n",
        "- Data is categorized into distinct groups or labels.\n",
        "- There is no inherent order or ranking between categories.\n",
        "\n",
        "**Examples:**\n",
        "- Gender (Male, Female, Other)\n",
        "- Blood group (A, B, AB, O)\n",
        "- Eye color (Brown, Blue, Green)\n",
        "\n",
        "### 2. Ordinal Level\n",
        "\n",
        "- Data is categorized, but categories have a meaningful order or ranking.\n",
        "- Differences between the categories are not measurable or consistent.\n",
        "\n",
        "**Examples:**\n",
        "- Education levels (High School, Graduate, Postgraduate)\n",
        "- Customer satisfaction (Poor, Fair, Good, Excellent)\n",
        "- Socioeconomic status (Low, Middle, High)\n",
        "\n",
        "### 3. Interval Level\n",
        "\n",
        "- Data has ordered categories with meaningful and equal intervals between values.\n",
        "- There is no true zero point.\n",
        "\n",
        "**Examples:**\n",
        "- Temperature in Celsius or Fahrenheit\n",
        "- Calendar years (e.g., 2000, 2010, 2020)\n",
        "- IQ scores\n",
        "\n",
        "### 4. Ratio Level\n",
        "\n",
        "- The highest level of measurement.\n",
        "- Data has all the properties of interval data, plus a true zero point.\n",
        "- Ratios between values are meaningful.\n",
        "\n",
        "**Examples:**\n",
        "- Height (cm, meters)\n",
        "- Weight (kg)\n",
        "- Age (years)\n",
        "- Income ($)\n",
        "\n",
        "## Q11. What is the measure of central tendency?\n",
        "\n",
        "### Answer:\n",
        "\n",
        "The **Measure of Central Tendency** is a statistical term that refers to methods used to identify the center or typical value of a dataset. It provides a single value that summarizes the entire data set and represents its \"central\" or \"average\" characteristic.\n",
        "\n",
        "## Q12.  Define mean, median, and mode.\n",
        "\n",
        "### Answer:\n",
        "\n",
        "### 1. Mean (Average)  \n",
        "The **mean** is the sum of all the values in a dataset divided by the number of values. It represents the arithmetic average of the data.\n",
        "\n",
        "**Formula:**  \n",
        "Mean = (Sum of all values) ÷ (Total number of values)\n",
        "\n",
        "**Example:**  \n",
        "For the dataset: 5, 10, 15  \n",
        "Mean = (5 + 10 + 15) ÷ 3 = 10\n",
        "\n",
        "### 2. Median  \n",
        "The **median** is the middle value in a dataset when the values are arranged in ascending or descending order. If there is an even number of values, the median is the average of the two middle values.\n",
        "\n",
        "**Example:**  \n",
        "For the dataset: 3, 5, 7  \n",
        "Median = 5\n",
        "\n",
        "If the dataset is: 2, 4, 6, 8  \n",
        "Median = (4 + 6) ÷ 2 = 5\n",
        "\n",
        "### 3. Mode  \n",
        "The **mode** is the value that occurs most frequently in the dataset. A dataset can have one mode, more than one mode, or no mode at all.\n",
        "\n",
        "**Example:**  \n",
        "For the dataset: 2, 4, 4, 6, 8  \n",
        "Mode = 4  \n",
        "If all values occur only once, the dataset has **no mode**.\n",
        "\n",
        "## Q13. What is the significance of the measure of central tendency?\n",
        "\n",
        "### Answer:\n",
        "\n",
        "The **Measure of Central Tendency** is significant because it provides a single value that represents the center or typical value of a dataset. It simplifies complex data and makes it easier to understand and compare information.\n",
        "\n",
        "### Importance and Significance:\n",
        "\n",
        "- **Data Summarization:**  \n",
        "  It condenses a large set of values into one representative value, making data easier to interpret.\n",
        "\n",
        "- **Comparison:**  \n",
        "  Allows comparison between different groups or datasets.  \n",
        "  *Example:* Comparing the average marks of two classes.\n",
        "\n",
        "- **Understanding Data Distribution:**  \n",
        "  It helps in understanding how data is distributed around the center.\n",
        "\n",
        "- **Decision-Making:**  \n",
        "  Organizations, researchers, and policymakers use central tendency to make informed decisions.  \n",
        "  *Example:* Businesses use the average sales figure to plan inventory and marketing.\n",
        "\n",
        "- **Foundation for Further Analysis:**  \n",
        "  Measures like mean, median, and mode are essential for advanced statistical techniques and data analysis.\n",
        "\n",
        "## Q14. What is variance, and how is it calculated?\n",
        "\n",
        "### Answer:\n",
        "\n",
        "**Variance** is a measure of how much the values in a dataset deviate from the mean (average). It shows the degree of spread or dispersion in the data. A higher variance means the data points are more spread out, while a lower variance indicates they are closer to the mean.\n",
        "\n",
        "**Steps to Calculate Variance:**\n",
        "\n",
        "1. Find the mean (average) of the dataset.\n",
        "2. Subtract the mean from each value to get the deviation.\n",
        "3. Square each deviation.\n",
        "4. Add all the squared deviations.\n",
        "5. Divide the sum by:\n",
        "   - Total number of values (N) for population variance.\n",
        "   - (n - 1) for sample variance.\n",
        "  \n",
        "## Q15. What is standard deviation, and why is it important?\n",
        "\n",
        "### Answer:\n",
        "\n",
        "**Standard Deviation** is a statistical measure that shows how much the values in a dataset deviate from the mean (average). It is the square root of the variance and provides a clear understanding of the spread or dispersion of data.\n",
        "\n",
        "### Importance of Standard Deviation:\n",
        "\n",
        "- **Measures Spread:**  \n",
        "  It tells how spread out the data is around the mean.\n",
        "\n",
        "- **Helps Compare Datasets:**  \n",
        "  It allows comparison of variability between different datasets, even if their means are different.\n",
        "\n",
        "- **Indicates Consistency:**  \n",
        "  A small standard deviation means the data points are close to the mean (more consistent), while a large standard deviation means greater variability.\n",
        "\n",
        "- **Useful in Decision-Making:**  \n",
        "  Businesses, researchers, and analysts use it to assess risk, consistency, and reliability of data.\n",
        "\n",
        "## Q16. Define and explain the term range in statistics.\n",
        "\n",
        "### Answer:\n",
        "\n",
        "**Range** is a measure of dispersion that indicates the difference between the highest and the lowest values in a dataset. It provides a simple way to understand how spread out the data is.\n",
        "\n",
        "### Formula:\n",
        "\n",
        "\\[\n",
        "\\text{Range} = \\text{Maximum Value} - \\text{Minimum Value}\n",
        "\\]\n",
        "\n",
        "### Example:\n",
        "\n",
        "**Dataset:** 8, 15, 22, 30, 35\n",
        "\n",
        "**Step 1:** Identify the maximum and minimum values  \n",
        "Maximum Value = 35  \n",
        "Minimum Value = 8  \n",
        "\n",
        "**Step 2:** Apply the formula  \n",
        "\\[\n",
        "\\text{Range} = 35 - 8 = 27\n",
        "\\]\n",
        "\n",
        "Thus, the range of the dataset is **27**.\n",
        "\n",
        "## Q17. What is the difference between variance and standard deviation?\n",
        "\n",
        "### Answer:\n",
        "\n",
        "Variance and Standard Deviation are both measures of how spread out the values in a dataset are, but they differ in their interpretation.\n",
        "\n",
        "- **Variance** measures the average squared deviation of each value from the mean. It gives an idea of the overall spread but is expressed in squared units, which can be harder to interpret.\n",
        "\n",
        "- **Standard Deviation** is the square root of the variance. It represents the average distance of each data point from the mean and is expressed in the same units as the original data, making it easier to understand.\n",
        "\n",
        "In simple terms, Standard Deviation provides a more practical and interpretable measure of variability compared to Variance.\n",
        "\n",
        "## Q18. What is skewness in a dataset?\n",
        "\n",
        "### Answer:\n",
        "\n",
        "**Skewness** is a statistical measure that describes the degree of asymmetry or distortion in the distribution of data.\n",
        "\n",
        "- If the data is **symmetrical**, the skewness is zero.  \n",
        "- If the data is **positively skewed**, the tail on the right side is longer, and most values are concentrated on the left.  \n",
        "- If the data is **negatively skewed**, the tail on the left side is longer, and most values are concentrated on the right.  \n",
        "\n",
        "Skewness helps to understand the shape and distribution pattern of the dataset.\n",
        "\n",
        "## Q19. What does it mean if a dataset is positively or negatively skewed?\n",
        "\n",
        "### Answer:\n",
        "\n",
        "- A **positively skewed** dataset means that the right tail of the distribution is longer. Most of the data values are concentrated on the left, and a few larger values pull the mean to the right.\n",
        "\n",
        "- A **negatively skewed** dataset means that the left tail of the distribution is longer. Most of the data values are concentrated on the right, and a few smaller values pull the mean to the left.\n",
        "\n",
        "In simple terms, skewness indicates the direction in which the data is stretched or distorted.\n",
        "\n",
        "## Q20.  Define and explain kurtosis.\n",
        "\n",
        "### Answer:\n",
        "\n",
        "**Kurtosis** is a statistical measure that describes the shape of a dataset's distribution, specifically focusing on the **peakedness** and the **tails**.\n",
        "\n",
        "It indicates whether the data have heavier or lighter tails compared to a normal distribution.\n",
        "\n",
        "### Types of Kurtosis:\n",
        "\n",
        "- **Leptokurtic:**  \n",
        "  Distribution with a sharp peak and heavy tails (more extreme values).\n",
        "\n",
        "- **Mesokurtic:**  \n",
        "  Distribution with a moderate peak, similar to the normal distribution.\n",
        "\n",
        "- **Platykurtic:**  \n",
        "  Distribution with a flat peak and light tails (fewer extreme values).\n",
        "\n",
        "Kurtosis helps in understanding the likelihood of outliers and the overall shape of the distribution.\n",
        "\n",
        "## Q21. What is the purpose of covariance?\n",
        "\n",
        "### Answer:\n",
        "\n",
        "**Covariance** is a statistical measure that indicates the direction of the relationship between two variables.\n",
        "\n",
        "### Purpose:\n",
        "\n",
        "The main purpose of covariance is to determine whether two variables move together or in opposite directions:\n",
        "\n",
        "- A **positive covariance** means that as one variable increases, the other tends to increase.\n",
        "- A **negative covariance** means that as one variable increases, the other tends to decrease.\n",
        "- A **covariance close to zero** suggests no clear relationship between the variables.\n",
        "\n",
        "Covariance helps in understanding how two variables are related and is often used in portfolio analysis, statistics, and data analysis.\n",
        "\n",
        "## Q22. What does correlation measure in statistics?\n",
        "\n",
        "### Answer:\n",
        "\n",
        "Correlation measures the strength and direction of the relationship between two variables.\n",
        "\n",
        "It tells us whether the variables increase or decrease together (positive correlation), move in opposite directions (negative correlation), or have no relationship (zero correlation).\n",
        "\n",
        "Correlation helps in understanding how closely two variables are related, but it does not prove that one causes the other.\n",
        "\n",
        "## Q23. What is the difference between covariance and correlation?\n",
        "\n",
        "### Answer:\n",
        "\n",
        "**Covariance** and **Correlation** both measure the relationship between two variables, but they differ in their interpretation and scale.\n",
        "\n",
        "### Covariance:\n",
        "- Measures the direction of the relationship between two variables.\n",
        "- The value can range from negative to positive infinity.\n",
        "- It is affected by the units of the variables, making it harder to interpret directly.\n",
        "\n",
        "### Correlation:\n",
        "- Measures both the direction and the strength of the relationship.\n",
        "- The value always lies between -1 and +1.\n",
        "- It is dimensionless and standardized, making it easier to interpret.\n",
        "\n",
        "## Q24. What are some real-world applications of statistics?\n",
        "\n",
        "### Answer:\n",
        "\n",
        "Statistics is widely used in various fields to collect, analyze, and interpret data for decision-making. Some common real-world applications include:\n",
        "\n",
        "- **Business:**  \n",
        "  Used for market research, sales forecasting, quality control, and customer analysis.\n",
        "\n",
        "- **Healthcare:**  \n",
        "  Helps in medical research, drug trials, and analyzing patient data to improve treatment.\n",
        "\n",
        "- **Education:**  \n",
        "  Used to analyze student performance, exam results, and to improve teaching methods.\n",
        "\n",
        "- **Government:**  \n",
        "  Used in population census, economic planning, and policy-making.\n",
        "\n",
        "- **Sports:**  \n",
        "  Helps in performance analysis, player statistics, and strategy development.\n",
        "\n",
        "- **Weather Forecasting:**  \n",
        "  Used to predict weather patterns based on historical data.\n",
        "\n",
        "Statistics helps organizations and individuals make informed decisions based on data.\n",
        "\n"
      ],
      "metadata": {
        "id": "bxwYDsCSK14P"
      }
    },
    {
      "cell_type": "markdown",
      "source": [
        "#Statistics Practical Questions"
      ],
      "metadata": {
        "id": "H50c6-YGqAaN"
      }
    },
    {
      "cell_type": "markdown",
      "source": [
        " ## Q1. How do you calculate the mean, median, and mode of a dataset?\n",
        ""
      ],
      "metadata": {
        "id": "WIAQtNIoqSH8"
      }
    },
    {
      "cell_type": "code",
      "execution_count": 33,
      "metadata": {
        "id": "NGWQF7e-Jjbe",
        "colab": {
          "base_uri": "https://localhost:8080/"
        },
        "outputId": "f6888bb0-c09d-4eda-aeb8-fb83ef7a74b6"
      },
      "outputs": [
        {
          "output_type": "stream",
          "name": "stdout",
          "text": [
            "Mean: 17.75\n",
            "Median: 16.5\n",
            "Mode: 15\n"
          ]
        }
      ],
      "source": [
        "import numpy as np\n",
        "from statistics import mode\n",
        "\n",
        "# Dataset\n",
        "data = [12, 15, 18, 15, 20, 22, 15, 25]\n",
        "\n",
        "# Mean\n",
        "mean_value = np.mean(data)\n",
        "print(\"Mean:\", mean_value)\n",
        "\n",
        "# Median\n",
        "median_value = np.median(data)\n",
        "print(\"Median:\", median_value)\n",
        "\n",
        "# Mode\n",
        "mode_value = mode(data)\n",
        "print(\"Mode:\", mode_value)\n"
      ]
    },
    {
      "cell_type": "markdown",
      "source": [
        "## Q2. Write a Python program to compute the variance and standard deviation of a dataset."
      ],
      "metadata": {
        "id": "UAdc4t5vq6G4"
      }
    },
    {
      "cell_type": "code",
      "source": [
        "import numpy as np\n",
        "\n",
        "# Dataset\n",
        "data = [5, 7, 10, 13, 15]\n",
        "\n",
        "# Variance\n",
        "variance = np.var(data)\n",
        "print(\"Variance:\", variance)\n",
        "\n",
        "# Standard Deviation\n",
        "std_dev = np.std(data)\n",
        "print(\"Standard Deviation:\", std_dev)\n"
      ],
      "metadata": {
        "colab": {
          "base_uri": "https://localhost:8080/"
        },
        "id": "L9NBmU0HrEN8",
        "outputId": "e49e5e90-8ede-4c68-db8a-0bbc1b4874d9"
      },
      "execution_count": 34,
      "outputs": [
        {
          "output_type": "stream",
          "name": "stdout",
          "text": [
            "Variance: 13.6\n",
            "Standard Deviation: 3.687817782917155\n"
          ]
        }
      ]
    },
    {
      "cell_type": "markdown",
      "source": [
        "## Q3. Create a dataset and classify it into nominal, ordinal, interval, and ratio types."
      ],
      "metadata": {
        "id": "n6J9V9YlrJPM"
      }
    },
    {
      "cell_type": "code",
      "source": [
        "# Nominal Data (Categories without order)\n",
        "colors = [\"Red\", \"Blue\", \"Green\", \"Red\", \"Blue\"]\n",
        "\n",
        "# Ordinal Data (Categories with order)\n",
        "education_levels = [\"High School\", \"Bachelor's\", \"Master's\", \"PhD\"]\n",
        "\n",
        "# Interval Data (Numerical data with equal intervals, no true zero)\n",
        "temperatures = [30, 25, 20, 15, 10]  # Celsius scale\n",
        "\n",
        "# Ratio Data (Numerical data with true zero)\n",
        "weights = [50, 60, 65, 70, 80]  # Kilograms\n",
        "\n",
        "# Print the dataset\n",
        "print(\"Nominal Data (Colors):\", colors)\n",
        "print(\"Ordinal Data (Education Levels):\", education_levels)\n",
        "print(\"Interval Data (Temperatures in °C):\", temperatures)\n",
        "print(\"Ratio Data (Weights in kg):\", weights)\n"
      ],
      "metadata": {
        "colab": {
          "base_uri": "https://localhost:8080/"
        },
        "id": "2ztlGSwjrgLJ",
        "outputId": "a39e8b14-cb0d-467c-90b5-daca4f66bf87"
      },
      "execution_count": 35,
      "outputs": [
        {
          "output_type": "stream",
          "name": "stdout",
          "text": [
            "Nominal Data (Colors): ['Red', 'Blue', 'Green', 'Red', 'Blue']\n",
            "Ordinal Data (Education Levels): ['High School', \"Bachelor's\", \"Master's\", 'PhD']\n",
            "Interval Data (Temperatures in °C): [30, 25, 20, 15, 10]\n",
            "Ratio Data (Weights in kg): [50, 60, 65, 70, 80]\n"
          ]
        }
      ]
    },
    {
      "cell_type": "markdown",
      "source": [
        "## Q4.  Implement sampling techniques like random sampling and stratified sampling."
      ],
      "metadata": {
        "id": "WJQ5PnxQriLY"
      }
    },
    {
      "cell_type": "code",
      "source": [
        "import numpy as np\n",
        "import pandas as pd\n",
        "from sklearn.model_selection import train_test_split\n",
        "\n",
        "# Create a simple dataset\n",
        "data = pd.DataFrame({\n",
        "    'ID': range(1, 21),\n",
        "    'Category': ['A', 'B', 'A', 'B', 'A', 'B', 'A', 'B', 'A', 'B',\n",
        "                 'A', 'B', 'A', 'B', 'A', 'B', 'A', 'B', 'A', 'B']\n",
        "})\n",
        "\n",
        "print(\"Original Dataset:\\n\")\n",
        "print(data)\n",
        "\n",
        "# ---------------- Random Sampling ----------------\n",
        "print(\"\\nRandom Sampling (5 samples):\\n\")\n",
        "random_sample = data.sample(n=5, random_state=1)\n",
        "print(random_sample)\n",
        "\n",
        "# ---------------- Stratified Sampling ----------------\n",
        "# Stratify based on 'Category' column\n",
        "print(\"\\nStratified Sampling (50% from each category):\\n\")\n",
        "stratified_sample, _ = train_test_split(data, test_size=0.5, stratify=data['Category'], random_state=1)\n",
        "print(stratified_sample)\n"
      ],
      "metadata": {
        "colab": {
          "base_uri": "https://localhost:8080/"
        },
        "id": "oe9wjnmYrodB",
        "outputId": "13b5f219-2d3a-4f5c-bfb0-20d42392a2db"
      },
      "execution_count": 36,
      "outputs": [
        {
          "output_type": "stream",
          "name": "stdout",
          "text": [
            "Original Dataset:\n",
            "\n",
            "    ID Category\n",
            "0    1        A\n",
            "1    2        B\n",
            "2    3        A\n",
            "3    4        B\n",
            "4    5        A\n",
            "5    6        B\n",
            "6    7        A\n",
            "7    8        B\n",
            "8    9        A\n",
            "9   10        B\n",
            "10  11        A\n",
            "11  12        B\n",
            "12  13        A\n",
            "13  14        B\n",
            "14  15        A\n",
            "15  16        B\n",
            "16  17        A\n",
            "17  18        B\n",
            "18  19        A\n",
            "19  20        B\n",
            "\n",
            "Random Sampling (5 samples):\n",
            "\n",
            "    ID Category\n",
            "3    4        B\n",
            "16  17        A\n",
            "6    7        A\n",
            "10  11        A\n",
            "2    3        A\n",
            "\n",
            "Stratified Sampling (50% from each category):\n",
            "\n",
            "    ID Category\n",
            "1    2        B\n",
            "8    9        A\n",
            "19  20        B\n",
            "17  18        B\n",
            "4    5        A\n",
            "11  12        B\n",
            "18  19        A\n",
            "7    8        B\n",
            "0    1        A\n",
            "12  13        A\n"
          ]
        }
      ]
    },
    {
      "cell_type": "markdown",
      "source": [
        "## Q5.  Write a Python function to calculate the range of a dataset."
      ],
      "metadata": {
        "id": "edIpKR-Xryvt"
      }
    },
    {
      "cell_type": "code",
      "source": [
        "# Function to calculate range\n",
        "def calculate_range(data):\n",
        "    return max(data) - min(data)\n",
        "\n",
        "# Example dataset\n",
        "dataset = [10, 25, 30, 15, 40]\n",
        "\n",
        "# Calculate and print range\n",
        "range_value = calculate_range(dataset)\n",
        "print(\"Range of the dataset:\", range_value)\n"
      ],
      "metadata": {
        "colab": {
          "base_uri": "https://localhost:8080/"
        },
        "id": "HVBOR0e4sUeH",
        "outputId": "545eb24d-6f03-46ba-ec8d-05e7fb0022b0"
      },
      "execution_count": 37,
      "outputs": [
        {
          "output_type": "stream",
          "name": "stdout",
          "text": [
            "Range of the dataset: 30\n"
          ]
        }
      ]
    },
    {
      "cell_type": "markdown",
      "source": [
        "## Q6. Create a dataset and plot its histogram to visualize skewness."
      ],
      "metadata": {
        "id": "lr7_LiPXsWdo"
      }
    },
    {
      "cell_type": "code",
      "source": [
        "import numpy as np\n",
        "import matplotlib.pyplot as plt\n",
        "import seaborn as sns\n",
        "\n",
        "# Create a right-skewed (positively skewed) dataset\n",
        "data = np.random.exponential(scale=2, size=1000)\n",
        "\n",
        "# Plot the histogram\n",
        "plt.figure(figsize=(8, 5))\n",
        "sns.histplot(data, bins=30, kde=True, color='skyblue')\n",
        "plt.title(\"Histogram to Visualize Skewness\")\n",
        "plt.xlabel(\"Values\")\n",
        "plt.ylabel(\"Frequency\")\n",
        "plt.show()\n"
      ],
      "metadata": {
        "colab": {
          "base_uri": "https://localhost:8080/",
          "height": 487
        },
        "id": "lVlJSqTyscnZ",
        "outputId": "32db27ec-9883-4ec0-de15-849c7421221f"
      },
      "execution_count": 38,
      "outputs": [
        {
          "output_type": "display_data",
          "data": {
            "text/plain": [
              "<Figure size 800x500 with 1 Axes>"
            ],
            "image/png": "[encoded data removed]"
          },
          "metadata": {}
        }
      ]
    },
    {
      "cell_type": "markdown",
      "source": [
        "## Q7.  Calculate skewness and kurtosis of a dataset using Python libraries."
      ],
      "metadata": {
        "id": "U-rhzzquuHrr"
      }
    },
    {
      "cell_type": "code",
      "source": [
        "import numpy as np\n",
        "import scipy.stats as stats\n",
        "\n",
        "# Create a dataset\n",
        "data = np.random.exponential(scale=2, size=1000)\n",
        "\n",
        "# Calculate skewness\n",
        "skewness = stats.skew(data)\n",
        "print(\"Skewness of the dataset:\", skewness)\n",
        "\n",
        "# Calculate kurtosis\n",
        "kurtosis = stats.kurtosis(data)\n",
        "print(\"Kurtosis of the dataset:\", kurtosis)"
      ],
      "metadata": {
        "colab": {
          "base_uri": "https://localhost:8080/"
        },
        "id": "nX3ZDaS9uN3H",
        "outputId": "661ed9c2-15d1-4f7b-ef76-1bf0d9879d75"
      },
      "execution_count": 39,
      "outputs": [
        {
          "output_type": "stream",
          "name": "stdout",
          "text": [
            "Skewness of the dataset: 1.7373254413483294\n",
            "Kurtosis of the dataset: 3.770554481519328\n"
          ]
        }
      ]
    },
    {
      "cell_type": "markdown",
      "source": [
        "## Q8. Generate a dataset and demonstrate positive and negative skewness."
      ],
      "metadata": {
        "id": "71l5fiP2uU57"
      }
    },
    {
      "cell_type": "code",
      "source": [
        "import numpy as np\n",
        "import matplotlib.pyplot as plt\n",
        "import seaborn as sns\n",
        "from scipy.stats import skew\n",
        "\n",
        "# Create a positively skewed dataset (Exponential distribution)\n",
        "positive_skew_data = np.random.exponential(scale=2, size=1000)\n",
        "\n",
        "# Create a negatively skewed dataset (Negating exponential values)\n",
        "negative_skew_data = -np.random.exponential(scale=2, size=1000)\n",
        "\n",
        "# Plot the positively skewed dataset\n",
        "plt.figure(figsize=(12, 5))\n",
        "\n",
        "plt.subplot(1, 2, 1)\n",
        "sns.histplot(positive_skew_data, bins=30, kde=True, color='orange')\n",
        "plt.title(f'Positive Skewness\\nSkew = {skew(positive_skew_data):.2f}')\n",
        "plt.xlabel('Values')\n",
        "plt.ylabel('Frequency')\n",
        "\n",
        "# Plot the negatively skewed dataset\n",
        "plt.subplot(1, 2, 2)\n",
        "sns.histplot(negative_skew_data, bins=30, kde=True, color='green')\n",
        "plt.title(f'Negative Skewness\\nSkew = {skew(negative_skew_data):.2f}')\n",
        "plt.xlabel('Values')\n",
        "plt.ylabel('Frequency')\n",
        "\n",
        "plt.tight_layout()\n",
        "plt.show()\n"
      ],
      "metadata": {
        "colab": {
          "base_uri": "https://localhost:8080/",
          "height": 506
        },
        "id": "jWHC5mp_unkP",
        "outputId": "ee8c9703-866c-48b4-9299-f501fa2656b9"
      },
      "execution_count": 40,
      "outputs": [
        {
          "output_type": "display_data",
          "data": {
            "text/plain": [
              "<Figure size 1200x500 with 2 Axes>"
            ],
            "image/png": "[encoded data removed]"
          },
          "metadata": {}
        }
      ]
    },
    {
      "cell_type": "markdown",
      "source": [
        "## Q9.  Write a Python script to calculate covariance between two datasets."
      ],
      "metadata": {
        "id": "xORJyd1huqon"
      }
    },
    {
      "cell_type": "code",
      "source": [
        "import numpy as np\n",
        "\n",
        "# Create two datasets\n",
        "x = [5, 7, 8, 9, 10]\n",
        "y = [15, 17, 18, 19, 21]\n",
        "\n",
        "# Calculate covariance matrix\n",
        "cov_matrix = np.cov(x, y)\n",
        "\n",
        "print(\"Covariance matrix:\\n\", cov_matrix)\n",
        "\n",
        "# Extract covariance value\n",
        "covariance = cov_matrix[0, 1]\n",
        "print(\"\\nCovariance between x and y:\", covariance)\n"
      ],
      "metadata": {
        "colab": {
          "base_uri": "https://localhost:8080/"
        },
        "id": "B2wBHCoJu20q",
        "outputId": "76f75500-88ce-4db2-b601-af0afd7b055d"
      },
      "execution_count": 41,
      "outputs": [
        {
          "output_type": "stream",
          "name": "stdout",
          "text": [
            "Covariance matrix:\n",
            " [[3.7  4.25]\n",
            " [4.25 5.  ]]\n",
            "\n",
            "Covariance between x and y: 4.25\n"
          ]
        }
      ]
    },
    {
      "cell_type": "markdown",
      "source": [
        "## Q10.  Write a Python script to calculate the correlation coefficient between two datasets."
      ],
      "metadata": {
        "id": "gkGa1S0Ju4Rv"
      }
    },
    {
      "cell_type": "code",
      "source": [
        "import numpy as np\n",
        "\n",
        "# Create two datasets\n",
        "x = [5, 7, 8, 9, 10]\n",
        "y = [15, 17, 18, 19, 21]\n",
        "\n",
        "# Calculate correlation coefficient matrix\n",
        "corr_matrix = np.corrcoef(x, y)\n",
        "\n",
        "print(\"Correlation coefficient matrix:\\n\", corr_matrix)\n",
        "\n",
        "# Extract correlation coefficient value\n",
        "correlation = corr_matrix[0, 1]\n",
        "print(\"\\nCorrelation coefficient between x and y:\", correlation)\n"
      ],
      "metadata": {
        "colab": {
          "base_uri": "https://localhost:8080/"
        },
        "id": "Xglw_2LkvEHF",
        "outputId": "84941b18-534f-49ef-9f50-23e86bcc16f7"
      },
      "execution_count": 42,
      "outputs": [
        {
          "output_type": "stream",
          "name": "stdout",
          "text": [
            "Correlation coefficient matrix:\n",
            " [[1.         0.98810493]\n",
            " [0.98810493 1.        ]]\n",
            "\n",
            "Correlation coefficient between x and y: 0.9881049293224639\n"
          ]
        }
      ]
    },
    {
      "cell_type": "markdown",
      "source": [
        "## Q11. Create a scatter plot to visualize the relationship between two variables."
      ],
      "metadata": {
        "id": "L_IQdO0UvFhG"
      }
    },
    {
      "cell_type": "code",
      "source": [
        "import matplotlib.pyplot as plt\n",
        "\n",
        "# Sample data\n",
        "x = [5, 7, 8, 9, 10]\n",
        "y = [15, 17, 18, 19, 21]\n",
        "\n",
        "# Create scatter plot\n",
        "plt.figure(figsize=(7,5))\n",
        "plt.scatter(x, y, color='blue', edgecolor='k', s=100)\n",
        "plt.title('Scatter Plot: Relationship between x and y')\n",
        "plt.xlabel('x values')\n",
        "plt.ylabel('y values')\n",
        "plt.grid(True)\n",
        "plt.show()\n"
      ],
      "metadata": {
        "colab": {
          "base_uri": "https://localhost:8080/",
          "height": 487
        },
        "id": "x-l2LPu0vK1h",
        "outputId": "25d97419-54ca-4950-81ac-97b4c67c841c"
      },
      "execution_count": 43,
      "outputs": [
        {
          "output_type": "display_data",
          "data": {
            "text/plain": [
              "<Figure size 700x500 with 1 Axes>"
            ],
            "image/png": "[encoded data removed]"
          },
          "metadata": {}
        }
      ]
    },
    {
      "cell_type": "markdown",
      "source": [
        "## Q12.  Implement and compare simple random sampling and systematic sampling."
      ],
      "metadata": {
        "id": "9n0nKzmQvTLC"
      }
    },
    {
      "cell_type": "code",
      "source": [
        "import numpy as np\n",
        "import pandas as pd\n",
        "\n",
        "# Create a sample dataset: 30 numbers\n",
        "data = pd.DataFrame({'Value': np.arange(1, 31)})\n",
        "\n",
        "print(\"Original Dataset:\")\n",
        "print(data.T)\n",
        "\n",
        "# --------- Simple Random Sampling ---------\n",
        "# Randomly select 6 samples\n",
        "simple_random_sample = data.sample(n=6, random_state=42)\n",
        "print(\"\\nSimple Random Sampling (6 samples):\")\n",
        "print(simple_random_sample.T)\n",
        "\n",
        "# --------- Systematic Sampling ---------\n",
        "# Systematic sampling with interval k = 5\n",
        "k = 5\n",
        "start = 2  # starting index (0-based)\n",
        "systematic_sample = data.iloc[start::k]\n",
        "print(\"\\nSystematic Sampling (every 5th starting from index 2):\")\n",
        "print(systematic_sample.T)\n"
      ],
      "metadata": {
        "colab": {
          "base_uri": "https://localhost:8080/"
        },
        "id": "Ecjswp03vcTD",
        "outputId": "25a1bc22-9982-4013-f584-93f31317c914"
      },
      "execution_count": 44,
      "outputs": [
        {
          "output_type": "stream",
          "name": "stdout",
          "text": [
            "Original Dataset:\n",
            "       0   1   2   3   4   5   6   7   8   9   ...  20  21  22  23  24  25  \\\n",
            "Value   1   2   3   4   5   6   7   8   9  10  ...  21  22  23  24  25  26   \n",
            "\n",
            "       26  27  28  29  \n",
            "Value  27  28  29  30  \n",
            "\n",
            "[1 rows x 30 columns]\n",
            "\n",
            "Simple Random Sampling (6 samples):\n",
            "       27  15  23  17  8   9 \n",
            "Value  28  16  24  18   9  10\n",
            "\n",
            "Systematic Sampling (every 5th starting from index 2):\n",
            "       2   7   12  17  22  27\n",
            "Value   3   8  13  18  23  28\n"
          ]
        }
      ]
    },
    {
      "cell_type": "markdown",
      "source": [
        "## Q13.  Calculate the mean, median, and mode of grouped data."
      ],
      "metadata": {
        "id": "NsyFE0s2veeZ"
      }
    },
    {
      "cell_type": "code",
      "source": [
        "import numpy as np\n",
        "import pandas as pd\n",
        "\n",
        "# Define grouped data: Class intervals and frequencies\n",
        "data = {\n",
        "    'Class Interval': ['10-20', '20-30', '30-40', '40-50', '50-60'],\n",
        "    'Frequency': [5, 8, 15, 10, 7]\n",
        "}\n",
        "\n",
        "df = pd.DataFrame(data)\n",
        "\n",
        "# Calculate class midpoints\n",
        "df['Midpoint'] = df['Class Interval'].apply(lambda x: (int(x.split('-')[0]) + int(x.split('-')[1])) / 2)\n",
        "\n",
        "# Calculate total frequency\n",
        "N = df['Frequency'].sum()\n",
        "\n",
        "# Calculate Mean\n",
        "mean = (df['Midpoint'] * df['Frequency']).sum() / N\n",
        "\n",
        "# Calculate Cumulative Frequency for Median\n",
        "df['Cumulative Frequency'] = df['Frequency'].cumsum()\n",
        "\n",
        "# Median class\n",
        "median_class_index = df[df['Cumulative Frequency'] >= N/2].index[0]\n",
        "median_class = df.loc[median_class_index]\n",
        "\n",
        "# Median formula components\n",
        "L = int(median_class['Class Interval'].split('-')[0])   # Lower boundary\n",
        "f = median_class['Frequency']                            # Frequency of median class\n",
        "CF = df.loc[median_class_index - 1, 'Cumulative Frequency'] if median_class_index > 0 else 0  # Cumulative freq before median class\n",
        "h = (int(median_class['Class Interval'].split('-')[1]) - L)  # Class width\n",
        "\n",
        "median = L + ((N/2 - CF) / f) * h\n",
        "\n",
        "# Mode class (class with highest frequency)\n",
        "mode_class_index = df['Frequency'].idxmax()\n",
        "mode_class = df.loc[mode_class_index]\n",
        "\n",
        "# Mode formula components\n",
        "L_mode = int(mode_class['Class Interval'].split('-')[0])\n",
        "f_mode = mode_class['Frequency']\n",
        "f1 = df.loc[mode_class_index - 1, 'Frequency'] if mode_class_index > 0 else 0\n",
        "f2 = df.loc[mode_class_index + 1, 'Frequency'] if mode_class_index < len(df) - 1 else 0\n",
        "\n",
        "mode = L_mode + ((f_mode - f1) / ((2 * f_mode) - f1 - f2)) * h\n",
        "\n",
        "# Display results\n",
        "print(f\"Mean of grouped data: {mean:.2f}\")\n",
        "print(f\"Median of grouped data: {median:.2f}\")\n",
        "print(f\"Mode of grouped data: {mode:.2f}\")\n"
      ],
      "metadata": {
        "colab": {
          "base_uri": "https://localhost:8080/"
        },
        "id": "kxibgP0pv7m6",
        "outputId": "dec6cb8f-572d-426c-ea2d-63a00eceddd9"
      },
      "execution_count": 45,
      "outputs": [
        {
          "output_type": "stream",
          "name": "stdout",
          "text": [
            "Mean of grouped data: 36.33\n",
            "Median of grouped data: 36.33\n",
            "Mode of grouped data: 35.83\n"
          ]
        }
      ]
    },
    {
      "cell_type": "markdown",
      "source": [
        "## Q14.  Simulate data using Python and calculate its central tendency and dispersion."
      ],
      "metadata": {
        "id": "AHiO5hhIv9Of"
      }
    },
    {
      "cell_type": "code",
      "source": [
        "import numpy as np\n",
        "import scipy.stats as stats\n",
        "\n",
        "# Simulate data: 1000 random numbers from normal distribution\n",
        "data = np.random.normal(loc=50, scale=10, size=1000)\n",
        "\n",
        "# Round data for mode calculation\n",
        "data_rounded = np.round(data)\n",
        "\n",
        "mode_result = stats.mode(data_rounded)\n",
        "\n",
        "# Access mode value safely\n",
        "if hasattr(mode_result, 'mode'):\n",
        "    mode = mode_result.mode if isinstance(mode_result.mode, (int, float)) else mode_result.mode[0]\n",
        "else:\n",
        "    mode = mode_result[0]  # fallback\n",
        "\n",
        "mean = np.mean(data)\n",
        "median = np.median(data)\n",
        "variance = np.var(data, ddof=1)\n",
        "std_dev = np.std(data, ddof=1)\n",
        "data_range = np.ptp(data)\n",
        "\n",
        "print(f\"Mean: {mean:.2f}\")\n",
        "print(f\"Median: {median:.2f}\")\n",
        "print(f\"Mode: {mode:.0f} (from rounded data)\")\n",
        "print(f\"Variance: {variance:.2f}\")\n",
        "print(f\"Standard Deviation: {std_dev:.2f}\")\n",
        "print(f\"Range: {data_range:.2f}\")\n"
      ],
      "metadata": {
        "colab": {
          "base_uri": "https://localhost:8080/"
        },
        "id": "1NFBHqFDwaa-",
        "outputId": "c268440d-8122-457f-cfa2-df9392e6b64e"
      },
      "execution_count": 46,
      "outputs": [
        {
          "output_type": "stream",
          "name": "stdout",
          "text": [
            "Mean: 49.89\n",
            "Median: 49.82\n",
            "Mode: 52 (from rounded data)\n",
            "Variance: 101.40\n",
            "Standard Deviation: 10.07\n",
            "Range: 71.68\n"
          ]
        }
      ]
    },
    {
      "cell_type": "markdown",
      "source": [
        "## Q15. Use NumPy or pandas to summarize a dataset's descriptive statistics."
      ],
      "metadata": {
        "id": "kDeDo-sWweaL"
      }
    },
    {
      "cell_type": "code",
      "source": [
        "import pandas as pd\n",
        "import numpy as np\n",
        "\n",
        "# Create a sample dataset with 1000 random numbers (normal distribution)\n",
        "data = np.random.normal(loc=50, scale=10, size=1000)\n",
        "\n",
        "# Convert to pandas Series\n",
        "series = pd.Series(data)\n",
        "\n",
        "# Get descriptive statistics summary\n",
        "summary = series.describe()\n",
        "\n",
        "print(summary)\n"
      ],
      "metadata": {
        "colab": {
          "base_uri": "https://localhost:8080/"
        },
        "id": "13Jaf68xwlz5",
        "outputId": "91565b77-fbe6-41e1-a867-151f60a74234"
      },
      "execution_count": 47,
      "outputs": [
        {
          "output_type": "stream",
          "name": "stdout",
          "text": [
            "count    1000.000000\n",
            "mean       50.236204\n",
            "std        10.025414\n",
            "min        19.925628\n",
            "25%        43.711231\n",
            "50%        50.001363\n",
            "75%        57.256571\n",
            "max        79.799762\n",
            "dtype: float64\n"
          ]
        }
      ]
    },
    {
      "cell_type": "markdown",
      "source": [
        "## Q16.  Plot a boxplot to understand the spread and identify outliers."
      ],
      "metadata": {
        "id": "BC2nqc7iwspq"
      }
    },
    {
      "cell_type": "code",
      "source": [
        "import numpy as np\n",
        "import pandas as pd\n",
        "import matplotlib.pyplot as plt\n",
        "\n",
        "# Generate sample data (normal distribution with some outliers)\n",
        "data = np.append(np.random.normal(50, 10, 1000), [100, 110, 120])  # add some outliers\n",
        "\n",
        "# Convert to pandas Series\n",
        "series = pd.Series(data)\n",
        "\n",
        "# Plot boxplot\n",
        "plt.figure(figsize=(8, 5))\n",
        "plt.boxplot(series, vert=False)\n",
        "plt.title(\"Boxplot of Dataset\")\n",
        "plt.xlabel(\"Values\")\n",
        "plt.show()\n"
      ],
      "metadata": {
        "colab": {
          "base_uri": "https://localhost:8080/",
          "height": 487
        },
        "id": "WXksGWQEwzgj",
        "outputId": "28e8dc6b-1234-4fb9-f3d3-4e7940b7028d"
      },
      "execution_count": 48,
      "outputs": [
        {
          "output_type": "display_data",
          "data": {
            "text/plain": [
              "<Figure size 800x500 with 1 Axes>"
            ],
            "image/png": "[encoded data removed]"
          },
          "metadata": {}
        }
      ]
    },
    {
      "cell_type": "markdown",
      "source": [
        "## Q17.  Calculate the interquartile range (IQR) of a dataset."
      ],
      "metadata": {
        "id": "BhGl1JHdw2Vc"
      }
    },
    {
      "cell_type": "code",
      "source": [
        "import numpy as np\n",
        "\n",
        "# Sample data\n",
        "data = np.random.normal(50, 10, 1000)\n",
        "\n",
        "# Calculate Q1 (25th percentile) and Q3 (75th percentile)\n",
        "Q1 = np.percentile(data, 25)\n",
        "Q3 = np.percentile(data, 75)\n",
        "\n",
        "# Calculate IQR\n",
        "IQR = Q3 - Q1\n",
        "\n",
        "print(f\"Q1 (25th percentile): {Q1:.2f}\")\n",
        "print(f\"Q3 (75th percentile): {Q3:.2f}\")\n",
        "print(f\"Interquartile Range (IQR): {IQR:.2f}\")\n"
      ],
      "metadata": {
        "colab": {
          "base_uri": "https://localhost:8080/"
        },
        "id": "sYqzm2CUxB1x",
        "outputId": "ce73d5e0-5a40-4e51-c2a7-690787b74092"
      },
      "execution_count": 49,
      "outputs": [
        {
          "output_type": "stream",
          "name": "stdout",
          "text": [
            "Q1 (25th percentile): 43.01\n",
            "Q3 (75th percentile): 56.61\n",
            "Interquartile Range (IQR): 13.60\n"
          ]
        }
      ]
    },
    {
      "cell_type": "markdown",
      "source": [
        "## Q18. Implement Z-score normalization and explain its significance?\n"
      ],
      "metadata": {
        "id": "oGh4Y36bxDJH"
      }
    },
    {
      "cell_type": "code",
      "source": [
        "import numpy as np\n",
        "import pandas as pd\n",
        "\n",
        "# Sample data\n",
        "data = np.array([10, 15, 20, 25, 30, 35, 40])\n",
        "\n",
        "# Calculate mean and standard deviation\n",
        "mean = np.mean(data)\n",
        "std_dev = np.std(data, ddof=0)  # population std deviation\n",
        "\n",
        "# Z-score normalization\n",
        "z_scores = (data - mean) / std_dev\n",
        "\n",
        "print(\"Original data:\", data)\n",
        "print(\"Z-score normalized data:\", np.round(z_scores, 3))\n"
      ],
      "metadata": {
        "colab": {
          "base_uri": "https://localhost:8080/"
        },
        "id": "YiRMsYr2xUIR",
        "outputId": "245f5a4a-7703-41ca-827d-a123cbeb768d"
      },
      "execution_count": 50,
      "outputs": [
        {
          "output_type": "stream",
          "name": "stdout",
          "text": [
            "Original data: [10 15 20 25 30 35 40]\n",
            "Z-score normalized data: [-1.5 -1.  -0.5  0.   0.5  1.   1.5]\n"
          ]
        }
      ]
    },
    {
      "cell_type": "markdown",
      "source": [
        "## Q19. Compare two datasets using their standard deviations."
      ],
      "metadata": {
        "id": "X5202p_rxX3u"
      }
    },
    {
      "cell_type": "code",
      "source": [
        "import numpy as np\n",
        "\n",
        "# Example datasets\n",
        "data1 = np.array([10, 15, 20, 25, 30])\n",
        "data2 = np.array([12, 18, 25, 30, 40])\n",
        "\n",
        "# Calculate standard deviations (sample std dev, ddof=1)\n",
        "std_dev1 = np.std(data1, ddof=1)\n",
        "std_dev2 = np.std(data2, ddof=1)\n",
        "\n",
        "print(f\"Standard Deviation of Dataset 1: {std_dev1:.2f}\")\n",
        "print(f\"Standard Deviation of Dataset 2: {std_dev2:.2f}\")\n",
        "\n",
        "if std_dev1 > std_dev2:\n",
        "    print(\"Dataset 1 has greater variability (spread).\")\n",
        "elif std_dev1 < std_dev2:\n",
        "    print(\"Dataset 2 has greater variability (spread).\")\n",
        "else:\n",
        "    print(\"Both datasets have the same variability.\")\n"
      ],
      "metadata": {
        "colab": {
          "base_uri": "https://localhost:8080/"
        },
        "id": "4ctKH8ejxf7B",
        "outputId": "085c2319-3804-49d6-82da-9bbf79eff155"
      },
      "execution_count": 51,
      "outputs": [
        {
          "output_type": "stream",
          "name": "stdout",
          "text": [
            "Standard Deviation of Dataset 1: 7.91\n",
            "Standard Deviation of Dataset 2: 10.82\n",
            "Dataset 2 has greater variability (spread).\n"
          ]
        }
      ]
    },
    {
      "cell_type": "markdown",
      "source": [
        "## Q20. Write a Python program to visualize covariance using a heatmap."
      ],
      "metadata": {
        "id": "q96V99xexkVX"
      }
    },
    {
      "cell_type": "code",
      "source": [
        "import numpy as np\n",
        "import pandas as pd\n",
        "import seaborn as sns\n",
        "import matplotlib.pyplot as plt\n",
        "\n",
        "# Create a sample dataframe with correlated variables\n",
        "np.random.seed(0)\n",
        "data = pd.DataFrame({\n",
        "    'X': np.random.normal(0, 1, 100),\n",
        "    'Y': np.random.normal(0, 1, 100),\n",
        "    'Z': np.random.normal(0, 1, 100)\n",
        "})\n",
        "# Introduce some correlation\n",
        "data['Y'] = data['X'] * 0.8 + np.random.normal(0, 0.2, 100)\n",
        "data['Z'] = data['X'] * -0.5 + data['Y'] * 0.4 + np.random.normal(0, 0.3, 100)\n",
        "\n",
        "# Calculate covariance matrix\n",
        "cov_matrix = data.cov()\n",
        "\n",
        "# Plot heatmap of covariance matrix\n",
        "plt.figure(figsize=(6, 5))\n",
        "sns.heatmap(cov_matrix, annot=True, cmap='coolwarm', center=0)\n",
        "plt.title('Covariance Heatmap')\n",
        "plt.show()\n"
      ],
      "metadata": {
        "colab": {
          "base_uri": "https://localhost:8080/",
          "height": 468
        },
        "id": "0IdplZssxsWQ",
        "outputId": "6af93699-bbda-4d94-86bb-adf125d0ce2e"
      },
      "execution_count": 52,
      "outputs": [
        {
          "output_type": "display_data",
          "data": {
            "text/plain": [
              "<Figure size 600x500 with 2 Axes>"
            ],
            "image/png": "[encoded data removed]"
          },
          "metadata": {}
        }
      ]
    },
    {
      "cell_type": "markdown",
      "source": [
        "## Q21. Use seaborn to create a correlation matrix for a dataset."
      ],
      "metadata": {
        "id": "uV0pBkoixuBK"
      }
    },
    {
      "cell_type": "code",
      "source": [
        "import numpy as np\n",
        "import pandas as pd\n",
        "import seaborn as sns\n",
        "import matplotlib.pyplot as plt\n",
        "\n",
        "# Create a sample dataframe\n",
        "np.random.seed(42)\n",
        "data = pd.DataFrame({\n",
        "    'A': np.random.normal(0, 1, 100),\n",
        "    'B': np.random.normal(5, 2, 100),\n",
        "    'C': np.random.normal(-3, 5, 100),\n",
        "})\n",
        "\n",
        "# Introduce some correlation\n",
        "data['D'] = data['A'] * 0.6 + np.random.normal(0, 0.5, 100)\n",
        "data['E'] = data['B'] * -0.4 + data['C'] * 0.8 + np.random.normal(0, 0.3, 100)\n",
        "\n",
        "# Calculate correlation matrix\n",
        "corr_matrix = data.corr()\n",
        "\n",
        "# Plot heatmap of the correlation matrix\n",
        "plt.figure(figsize=(8, 6))\n",
        "sns.heatmap(corr_matrix, annot=True, cmap='coolwarm', center=0)\n",
        "plt.title(\"Correlation Matrix Heatmap\")\n",
        "plt.show()\n"
      ],
      "metadata": {
        "colab": {
          "base_uri": "https://localhost:8080/",
          "height": 545
        },
        "id": "s-7LFNW0x1Bd",
        "outputId": "e28084a8-cd57-455a-ee4e-76125ac5d1d5"
      },
      "execution_count": 53,
      "outputs": [
        {
          "output_type": "display_data",
          "data": {
            "text/plain": [
              "<Figure size 800x600 with 2 Axes>"
            ],
            "image/png": "[encoded data removed]"
          },
          "metadata": {}
        }
      ]
    },
    {
      "cell_type": "markdown",
      "source": [
        "## Q22.  Generate a dataset and implement both variance and standard deviation computations."
      ],
      "metadata": {
        "id": "nAvgG888x34i"
      }
    },
    {
      "cell_type": "code",
      "source": [
        "import numpy as np\n",
        "\n",
        "# Generate a dataset of 100 random numbers from a normal distribution\n",
        "data = np.random.normal(loc=50, scale=10, size=100)\n",
        "\n",
        "# Calculate variance (sample variance with ddof=1)\n",
        "variance = np.var(data, ddof=1)\n",
        "\n",
        "# Calculate standard deviation (sample std deviation with ddof=1)\n",
        "std_dev = np.std(data, ddof=1)\n",
        "\n",
        "print(f\"Variance: {variance:.2f}\")\n",
        "print(f\"Standard Deviation: {std_dev:.2f}\")\n"
      ],
      "metadata": {
        "colab": {
          "base_uri": "https://localhost:8080/"
        },
        "id": "d1w2cHKCyB7s",
        "outputId": "52478932-6452-4a5b-e5ee-23eec4691a34"
      },
      "execution_count": 54,
      "outputs": [
        {
          "output_type": "stream",
          "name": "stdout",
          "text": [
            "Variance: 85.29\n",
            "Standard Deviation: 9.24\n"
          ]
        }
      ]
    },
    {
      "cell_type": "markdown",
      "source": [
        "## Q23. Visualize skewness and kurtosis using Python libraries like matplotlib or seaborn."
      ],
      "metadata": {
        "id": "mb2fxJ9eyGTG"
      }
    },
    {
      "cell_type": "code",
      "source": [
        "import numpy as np\n",
        "import seaborn as sns\n",
        "import matplotlib.pyplot as plt\n",
        "from scipy.stats import skew, kurtosis\n",
        "\n",
        "# Generate a skewed dataset (exponential distribution)\n",
        "data = np.random.exponential(scale=2, size=1000)\n",
        "\n",
        "# Calculate skewness and kurtosis\n",
        "data_skewness = skew(data)\n",
        "data_kurtosis = kurtosis(data)\n",
        "\n",
        "print(f\"Skewness: {data_skewness:.3f}\")\n",
        "print(f\"Kurtosis: {data_kurtosis:.3f}\")\n",
        "\n",
        "# Plot histogram with KDE to visualize distribution shape\n",
        "plt.figure(figsize=(8, 5))\n",
        "sns.histplot(data, bins=30, kde=True, color='skyblue')\n",
        "plt.title('Histogram and KDE of Dataset')\n",
        "plt.xlabel('Value')\n",
        "plt.ylabel('Frequency')\n",
        "plt.show()\n"
      ],
      "metadata": {
        "colab": {
          "base_uri": "https://localhost:8080/",
          "height": 523
        },
        "id": "wUOtcROiyPpL",
        "outputId": "72a2021b-ead9-4d3d-8bfe-d9b0358db3e6"
      },
      "execution_count": 55,
      "outputs": [
        {
          "output_type": "stream",
          "name": "stdout",
          "text": [
            "Skewness: 1.952\n",
            "Kurtosis: 5.003\n"
          ]
        },
        {
          "output_type": "display_data",
          "data": {
            "text/plain": [
              "<Figure size 800x500 with 1 Axes>"
            ],
            "image/png": "[encoded data removed]"
          },
          "metadata": {}
        }
      ]
    },
    {
      "cell_type": "markdown",
      "source": [
        "## Q24. Implement the Pearson and Spearman correlation coefficients for a dataset."
      ],
      "metadata": {
        "id": "OKuKso_4yX6R"
      }
    },
    {
      "cell_type": "code",
      "source": [
        "import numpy as np\n",
        "import pandas as pd\n",
        "from scipy.stats import pearsonr, spearmanr\n",
        "\n",
        "# Create sample data\n",
        "np.random.seed(0)\n",
        "x = np.random.normal(50, 10, 100)\n",
        "y = 0.5 * x + np.random.normal(0, 5, 100)  # positively correlated with some noise\n",
        "\n",
        "# Calculate Pearson correlation coefficient\n",
        "pearson_corr, pearson_p = pearsonr(x, y)\n",
        "\n",
        "# Calculate Spearman correlation coefficient\n",
        "spearman_corr, spearman_p = spearmanr(x, y)\n",
        "\n",
        "print(f\"Pearson correlation: {pearson_corr:.3f} (p-value: {pearson_p:.3f})\")\n",
        "print(f\"Spearman correlation: {spearman_corr:.3f} (p-value: {spearman_p:.3f})\")\n"
      ],
      "metadata": {
        "colab": {
          "base_uri": "https://localhost:8080/"
        },
        "id": "pd99xGz6ybEG",
        "outputId": "c4cdc633-c542-4a52-cb02-33cc66c1a7e3"
      },
      "execution_count": 56,
      "outputs": [
        {
          "output_type": "stream",
          "name": "stdout",
          "text": [
            "Pearson correlation: 0.738 (p-value: 0.000)\n",
            "Spearman correlation: 0.706 (p-value: 0.000)\n"
          ]
        }
      ]
    }
  ]
}